{
  "nbformat": 4,
  "nbformat_minor": 0,
  "metadata": {
    "colab": {
      "provenance": []
    },
    "kernelspec": {
      "name": "python3",
      "display_name": "Python 3"
    },
    "language_info": {
      "name": "python"
    }
  },
  "cells": [
    {
      "cell_type": "code",
      "execution_count": 9,
      "metadata": {
        "id": "_fsIELfx3tsp"
      },
      "outputs": [],
      "source": [
        "import pandas as pd\n"
      ]
    },
    {
      "cell_type": "code",
      "source": [
        "user_input = int (input (\"Enter an integar greater than 0: \"))"
      ],
      "metadata": {
        "colab": {
          "base_uri": "https://localhost:8080/"
        },
        "id": "ZSqkkYqY34na",
        "outputId": "e270d7d1-4b96-4e41-81ef-703e689cb0a7"
      },
      "execution_count": 35,
      "outputs": [
        {
          "name": "stdout",
          "output_type": "stream",
          "text": [
            "Enter an integar greater than 0: 22\n"
          ]
        }
      ]
    },
    {
      "cell_type": "code",
      "source": [
        "even = []\n",
        "odd = []\n",
        "fibonacci = [0,1]\n",
        "if user_input > 0:\n",
        "  for i in range(user_input):\n",
        "    even.append(2*i)\n",
        "    odd.append(2*i + 1)\n",
        "    if i > 1:fibonacci.append(fibonacci[i-1]+fibonacci[i-2])\n",
        "\n",
        "  pd.DataFrame({'Even' :even, 'Odd':odd, 'fibo' :fibonacci})\n",
        "\n",
        "else: print(\"Enter an integar value greater than 0 \")"
      ],
      "metadata": {
        "id": "zo7U7Zoj5Unk"
      },
      "execution_count": 38,
      "outputs": []
    }
  ]
}